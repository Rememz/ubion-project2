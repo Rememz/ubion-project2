{
 "cells": [
  {
   "cell_type": "code",
   "execution_count": 22,
   "metadata": {},
   "outputs": [],
   "source": [
    "mda_feature = [ '자기자본구성비율', '매출액순이익률', '순운전자본비율',\n",
    "       '순운전자본회전률', '총자본투자효율', '자기자본순이익률', '총자본증가율', '총자본사업이익률', '기계투자효율',\n",
    "       '1주당순이익', '총자본순이익률', '자기자본배율']\n",
    "logit_feature = ['매출액증가율', '유형자산증가율', '재고자산증가율', '비유동자산증가율', '유동자산증가율', '현금비율', '이자보상배율이자비용',\n",
    "                  '비유동비율', '자기자본구성비율', '자기자본배율', '매출채권회전률', '매출채권회전기간']\n",
    "lasso_feature = ['자기자본증가율', '총자본증가율', '매출액순이익률', '자기자본순이익률', '순운전자본비율',\n",
    " '유동자산구성비율', '자기자본배율', '매출채권회전률', '매입채무회전기간', '매출채권회전기간', '순운전자본회전률', '총자본투자효율']\n",
    "ela_feature = ['자기자본증가율', '총자본증가율', '매출액순이익률', '자기자본순이익률', '총자본사업이익률', '총자본순이익률', '순운전자본비율', '자기자본구성비율', '자기자본배율',\n",
    " '매출채권회전기간', '순운전자본회전률', '부가가치율']"
   ]
  },
  {
   "cell_type": "code",
   "execution_count": 23,
   "metadata": {},
   "outputs": [],
   "source": [
    "import pandas as pd\n",
    "df = pd.DataFrame()"
   ]
  },
  {
   "cell_type": "code",
   "execution_count": 24,
   "metadata": {},
   "outputs": [],
   "source": [
    "all =  ['자기자본구성비율', '매출액순이익률', '순운전자본비율',\n",
    "       '순운전자본회전률', '총자본투자효율', '자기자본순이익률', '총자본증가율', '총자본사업이익률', '기계투자효율',\n",
    "       '1주당순이익', '총자본순이익률', '자기자본배율',\n",
    "'매출액증가율', '유형자산증가율', '재고자산증가율', '비유동자산증가율', '유동자산증가율', '현금비율', '이자보상배율이자비용',\n",
    "                  '비유동비율', '자기자본구성비율', '자기자본배율', '매출채권회전률', '매출채권회전기간',\n",
    "'자기자본증가율', '총자본증가율', '매출액순이익률', '자기자본순이익률', '순운전자본비율',\n",
    " '유동자산구성비율', '자기자본배율', '매출채권회전률', '매입채무회전기간', '매출채권회전기간', '순운전자본회전률', '총자본투자효율',\n",
    "'자기자본증가율', '총자본증가율', '매출액순이익률', '자기자본순이익률', '총자본사업이익률', '총자본순이익률', '순운전자본비율', '자기자본구성비율', '자기자본배율',\n",
    " '매출채권회전기간', '순운전자본회전률', '부가가치율']\n"
   ]
  },
  {
   "cell_type": "code",
   "execution_count": 25,
   "metadata": {},
   "outputs": [
    {
     "data": {
      "text/plain": [
       "[('자기자본배율',),\n",
       " ('자기자본구성비율',),\n",
       " ('매출액순이익률',),\n",
       " ('총자본증가율',),\n",
       " ('매출채권회전기간',),\n",
       " ('순운전자본비율',),\n",
       " ('순운전자본회전률',),\n",
       " ('자기자본순이익률',),\n",
       " ('총자본투자효율',),\n",
       " ('매출채권회전률',),\n",
       " ('총자본순이익률',),\n",
       " ('총자본사업이익률',),\n",
       " ('자기자본증가율',),\n",
       " ('1주당순이익',),\n",
       " ('재고자산증가율',),\n",
       " ('유동자산증가율',),\n",
       " ('이자보상배율이자비용',),\n",
       " ('유형자산증가율',),\n",
       " ('기계투자효율',),\n",
       " ('유동자산구성비율',),\n",
       " ('비유동자산증가율',),\n",
       " ('비유동비율',),\n",
       " ('부가가치율',),\n",
       " ('매출액증가율',),\n",
       " ('매입채무회전기간',),\n",
       " ('현금비율',)]"
      ]
     },
     "execution_count": 25,
     "metadata": {},
     "output_type": "execute_result"
    }
   ],
   "source": [
    "all = pd.DataFrame(all)\n",
    "all.value_counts().index.tolist()\n"
   ]
  },
  {
   "cell_type": "code",
   "execution_count": 26,
   "metadata": {},
   "outputs": [],
   "source": [
    "df[\"mda_feature\"] = mda_feature\n",
    "df[\"logit_feature\"] =  logit_feature\n",
    "df[\"lasso_feature\"] =lasso_feature\n",
    "df[\"ela_feature\"] = ela_feature"
   ]
  },
  {
   "cell_type": "code",
   "execution_count": 27,
   "metadata": {},
   "outputs": [],
   "source": [
    "# 2번 이상 피처 중 다중공선성 고려 3번이상 공통된 피처는 무조건 사용 2개 고른 것 중 총자본사업순이익률 제외\n",
    "same_fea = ['자기자본배율', '자기자본구성비율', '매출액순이익률', '총자본증가율', '매출채권회전기간', '순운전자본비율',\n",
    " '순운전자본회전률', '자기자본순이익률', '총자본투자효율', '매출채권회전률', '총자본순이익률', '자기자본증가율',]"
   ]
  },
  {
   "cell_type": "code",
   "execution_count": 28,
   "metadata": {},
   "outputs": [],
   "source": [
    "df[\"same_feature\"] = same_fea"
   ]
  },
  {
   "cell_type": "code",
   "execution_count": 29,
   "metadata": {},
   "outputs": [
    {
     "data": {
      "text/html": [
       "<div>\n",
       "<style scoped>\n",
       "    .dataframe tbody tr th:only-of-type {\n",
       "        vertical-align: middle;\n",
       "    }\n",
       "\n",
       "    .dataframe tbody tr th {\n",
       "        vertical-align: top;\n",
       "    }\n",
       "\n",
       "    .dataframe thead th {\n",
       "        text-align: right;\n",
       "    }\n",
       "</style>\n",
       "<table border=\"1\" class=\"dataframe\">\n",
       "  <thead>\n",
       "    <tr style=\"text-align: right;\">\n",
       "      <th></th>\n",
       "      <th>mda_feature</th>\n",
       "      <th>logit_feature</th>\n",
       "      <th>lasso_feature</th>\n",
       "      <th>ela_feature</th>\n",
       "      <th>same_feature</th>\n",
       "    </tr>\n",
       "  </thead>\n",
       "  <tbody>\n",
       "    <tr>\n",
       "      <th>0</th>\n",
       "      <td>자기자본구성비율</td>\n",
       "      <td>매출액증가율</td>\n",
       "      <td>자기자본증가율</td>\n",
       "      <td>자기자본증가율</td>\n",
       "      <td>자기자본배율</td>\n",
       "    </tr>\n",
       "    <tr>\n",
       "      <th>1</th>\n",
       "      <td>매출액순이익률</td>\n",
       "      <td>유형자산증가율</td>\n",
       "      <td>총자본증가율</td>\n",
       "      <td>총자본증가율</td>\n",
       "      <td>자기자본구성비율</td>\n",
       "    </tr>\n",
       "    <tr>\n",
       "      <th>2</th>\n",
       "      <td>순운전자본비율</td>\n",
       "      <td>재고자산증가율</td>\n",
       "      <td>매출액순이익률</td>\n",
       "      <td>매출액순이익률</td>\n",
       "      <td>매출액순이익률</td>\n",
       "    </tr>\n",
       "    <tr>\n",
       "      <th>3</th>\n",
       "      <td>순운전자본회전률</td>\n",
       "      <td>비유동자산증가율</td>\n",
       "      <td>자기자본순이익률</td>\n",
       "      <td>자기자본순이익률</td>\n",
       "      <td>총자본증가율</td>\n",
       "    </tr>\n",
       "    <tr>\n",
       "      <th>4</th>\n",
       "      <td>총자본투자효율</td>\n",
       "      <td>유동자산증가율</td>\n",
       "      <td>순운전자본비율</td>\n",
       "      <td>총자본사업이익률</td>\n",
       "      <td>매출채권회전기간</td>\n",
       "    </tr>\n",
       "    <tr>\n",
       "      <th>5</th>\n",
       "      <td>자기자본순이익률</td>\n",
       "      <td>현금비율</td>\n",
       "      <td>유동자산구성비율</td>\n",
       "      <td>총자본순이익률</td>\n",
       "      <td>순운전자본비율</td>\n",
       "    </tr>\n",
       "    <tr>\n",
       "      <th>6</th>\n",
       "      <td>총자본증가율</td>\n",
       "      <td>이자보상배율이자비용</td>\n",
       "      <td>자기자본배율</td>\n",
       "      <td>순운전자본비율</td>\n",
       "      <td>순운전자본회전률</td>\n",
       "    </tr>\n",
       "    <tr>\n",
       "      <th>7</th>\n",
       "      <td>총자본사업이익률</td>\n",
       "      <td>비유동비율</td>\n",
       "      <td>매출채권회전률</td>\n",
       "      <td>자기자본구성비율</td>\n",
       "      <td>자기자본순이익률</td>\n",
       "    </tr>\n",
       "    <tr>\n",
       "      <th>8</th>\n",
       "      <td>기계투자효율</td>\n",
       "      <td>자기자본구성비율</td>\n",
       "      <td>매입채무회전기간</td>\n",
       "      <td>자기자본배율</td>\n",
       "      <td>총자본투자효율</td>\n",
       "    </tr>\n",
       "    <tr>\n",
       "      <th>9</th>\n",
       "      <td>1주당순이익</td>\n",
       "      <td>자기자본배율</td>\n",
       "      <td>매출채권회전기간</td>\n",
       "      <td>매출채권회전기간</td>\n",
       "      <td>매출채권회전률</td>\n",
       "    </tr>\n",
       "    <tr>\n",
       "      <th>10</th>\n",
       "      <td>총자본순이익률</td>\n",
       "      <td>매출채권회전률</td>\n",
       "      <td>순운전자본회전률</td>\n",
       "      <td>순운전자본회전률</td>\n",
       "      <td>총자본순이익률</td>\n",
       "    </tr>\n",
       "    <tr>\n",
       "      <th>11</th>\n",
       "      <td>자기자본배율</td>\n",
       "      <td>매출채권회전기간</td>\n",
       "      <td>총자본투자효율</td>\n",
       "      <td>부가가치율</td>\n",
       "      <td>자기자본증가율</td>\n",
       "    </tr>\n",
       "  </tbody>\n",
       "</table>\n",
       "</div>"
      ],
      "text/plain": [
       "   mda_feature logit_feature lasso_feature ela_feature same_feature\n",
       "0     자기자본구성비율        매출액증가율       자기자본증가율     자기자본증가율       자기자본배율\n",
       "1      매출액순이익률       유형자산증가율        총자본증가율      총자본증가율     자기자본구성비율\n",
       "2      순운전자본비율       재고자산증가율       매출액순이익률     매출액순이익률      매출액순이익률\n",
       "3     순운전자본회전률      비유동자산증가율      자기자본순이익률    자기자본순이익률       총자본증가율\n",
       "4      총자본투자효율       유동자산증가율       순운전자본비율    총자본사업이익률     매출채권회전기간\n",
       "5     자기자본순이익률          현금비율      유동자산구성비율     총자본순이익률      순운전자본비율\n",
       "6       총자본증가율    이자보상배율이자비용        자기자본배율     순운전자본비율     순운전자본회전률\n",
       "7     총자본사업이익률         비유동비율       매출채권회전률    자기자본구성비율     자기자본순이익률\n",
       "8       기계투자효율      자기자본구성비율      매입채무회전기간      자기자본배율      총자본투자효율\n",
       "9       1주당순이익        자기자본배율      매출채권회전기간    매출채권회전기간      매출채권회전률\n",
       "10     총자본순이익률       매출채권회전률      순운전자본회전률    순운전자본회전률      총자본순이익률\n",
       "11      자기자본배율      매출채권회전기간       총자본투자효율       부가가치율      자기자본증가율"
      ]
     },
     "execution_count": 29,
     "metadata": {},
     "output_type": "execute_result"
    }
   ],
   "source": [
    "df"
   ]
  },
  {
   "cell_type": "code",
   "execution_count": 30,
   "metadata": {},
   "outputs": [],
   "source": [
    "df.to_csv(\"./데이터자료/8-1. MinMax feature.csv\",index=False)"
   ]
  },
  {
   "cell_type": "code",
   "execution_count": null,
   "metadata": {},
   "outputs": [],
   "source": []
  }
 ],
 "metadata": {
  "kernelspec": {
   "display_name": "base",
   "language": "python",
   "name": "python3"
  },
  "language_info": {
   "codemirror_mode": {
    "name": "ipython",
    "version": 3
   },
   "file_extension": ".py",
   "mimetype": "text/x-python",
   "name": "python",
   "nbconvert_exporter": "python",
   "pygments_lexer": "ipython3",
   "version": "3.9.13"
  },
  "orig_nbformat": 4
 },
 "nbformat": 4,
 "nbformat_minor": 2
}
