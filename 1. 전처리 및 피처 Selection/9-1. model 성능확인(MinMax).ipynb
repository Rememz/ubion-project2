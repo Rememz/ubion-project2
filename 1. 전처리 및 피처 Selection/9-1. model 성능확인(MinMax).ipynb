{
 "cells": [
  {
   "cell_type": "code",
   "execution_count": 1,
   "metadata": {},
   "outputs": [],
   "source": [
    "# 필요 라이브러리 import \n",
    "import pandas as pd\n",
    "import numpy as np\n",
    "from sklearn.preprocessing import MinMaxScaler\n",
    "import matplotlib.pyplot as plt\n",
    "%matplotlib inline"
   ]
  },
  {
   "cell_type": "code",
   "execution_count": 2,
   "metadata": {},
   "outputs": [
    {
     "data": {
      "text/html": [
       "<div>\n",
       "<style scoped>\n",
       "    .dataframe tbody tr th:only-of-type {\n",
       "        vertical-align: middle;\n",
       "    }\n",
       "\n",
       "    .dataframe tbody tr th {\n",
       "        vertical-align: top;\n",
       "    }\n",
       "\n",
       "    .dataframe thead th {\n",
       "        text-align: right;\n",
       "    }\n",
       "</style>\n",
       "<table border=\"1\" class=\"dataframe\">\n",
       "  <thead>\n",
       "    <tr style=\"text-align: right;\">\n",
       "      <th></th>\n",
       "      <th>mda_feature</th>\n",
       "      <th>logit_feature</th>\n",
       "      <th>lasso_feature</th>\n",
       "      <th>ela_feature</th>\n",
       "      <th>same_feature</th>\n",
       "    </tr>\n",
       "  </thead>\n",
       "  <tbody>\n",
       "    <tr>\n",
       "      <th>0</th>\n",
       "      <td>자기자본구성비율</td>\n",
       "      <td>매출액증가율</td>\n",
       "      <td>자기자본증가율</td>\n",
       "      <td>자기자본증가율</td>\n",
       "      <td>자기자본배율</td>\n",
       "    </tr>\n",
       "    <tr>\n",
       "      <th>1</th>\n",
       "      <td>매출액순이익률</td>\n",
       "      <td>유형자산증가율</td>\n",
       "      <td>총자본증가율</td>\n",
       "      <td>총자본증가율</td>\n",
       "      <td>자기자본구성비율</td>\n",
       "    </tr>\n",
       "    <tr>\n",
       "      <th>2</th>\n",
       "      <td>순운전자본비율</td>\n",
       "      <td>재고자산증가율</td>\n",
       "      <td>매출액순이익률</td>\n",
       "      <td>매출액순이익률</td>\n",
       "      <td>매출액순이익률</td>\n",
       "    </tr>\n",
       "    <tr>\n",
       "      <th>3</th>\n",
       "      <td>순운전자본회전률</td>\n",
       "      <td>비유동자산증가율</td>\n",
       "      <td>자기자본순이익률</td>\n",
       "      <td>자기자본순이익률</td>\n",
       "      <td>총자본증가율</td>\n",
       "    </tr>\n",
       "    <tr>\n",
       "      <th>4</th>\n",
       "      <td>총자본투자효율</td>\n",
       "      <td>유동자산증가율</td>\n",
       "      <td>순운전자본비율</td>\n",
       "      <td>총자본사업이익률</td>\n",
       "      <td>매출채권회전기간</td>\n",
       "    </tr>\n",
       "    <tr>\n",
       "      <th>5</th>\n",
       "      <td>자기자본순이익률</td>\n",
       "      <td>현금비율</td>\n",
       "      <td>유동자산구성비율</td>\n",
       "      <td>총자본순이익률</td>\n",
       "      <td>순운전자본비율</td>\n",
       "    </tr>\n",
       "    <tr>\n",
       "      <th>6</th>\n",
       "      <td>총자본증가율</td>\n",
       "      <td>이자보상배율이자비용</td>\n",
       "      <td>자기자본배율</td>\n",
       "      <td>순운전자본비율</td>\n",
       "      <td>순운전자본회전률</td>\n",
       "    </tr>\n",
       "    <tr>\n",
       "      <th>7</th>\n",
       "      <td>총자본사업이익률</td>\n",
       "      <td>비유동비율</td>\n",
       "      <td>매출채권회전률</td>\n",
       "      <td>자기자본구성비율</td>\n",
       "      <td>자기자본순이익률</td>\n",
       "    </tr>\n",
       "    <tr>\n",
       "      <th>8</th>\n",
       "      <td>기계투자효율</td>\n",
       "      <td>자기자본구성비율</td>\n",
       "      <td>매입채무회전기간</td>\n",
       "      <td>자기자본배율</td>\n",
       "      <td>총자본투자효율</td>\n",
       "    </tr>\n",
       "    <tr>\n",
       "      <th>9</th>\n",
       "      <td>1주당순이익</td>\n",
       "      <td>자기자본배율</td>\n",
       "      <td>매출채권회전기간</td>\n",
       "      <td>매출채권회전기간</td>\n",
       "      <td>매출채권회전률</td>\n",
       "    </tr>\n",
       "    <tr>\n",
       "      <th>10</th>\n",
       "      <td>총자본순이익률</td>\n",
       "      <td>매출채권회전률</td>\n",
       "      <td>순운전자본회전률</td>\n",
       "      <td>순운전자본회전률</td>\n",
       "      <td>총자본순이익률</td>\n",
       "    </tr>\n",
       "    <tr>\n",
       "      <th>11</th>\n",
       "      <td>자기자본배율</td>\n",
       "      <td>매출채권회전기간</td>\n",
       "      <td>총자본투자효율</td>\n",
       "      <td>부가가치율</td>\n",
       "      <td>자기자본증가율</td>\n",
       "    </tr>\n",
       "  </tbody>\n",
       "</table>\n",
       "</div>"
      ],
      "text/plain": [
       "   mda_feature logit_feature lasso_feature ela_feature same_feature\n",
       "0     자기자본구성비율        매출액증가율       자기자본증가율     자기자본증가율       자기자본배율\n",
       "1      매출액순이익률       유형자산증가율        총자본증가율      총자본증가율     자기자본구성비율\n",
       "2      순운전자본비율       재고자산증가율       매출액순이익률     매출액순이익률      매출액순이익률\n",
       "3     순운전자본회전률      비유동자산증가율      자기자본순이익률    자기자본순이익률       총자본증가율\n",
       "4      총자본투자효율       유동자산증가율       순운전자본비율    총자본사업이익률     매출채권회전기간\n",
       "5     자기자본순이익률          현금비율      유동자산구성비율     총자본순이익률      순운전자본비율\n",
       "6       총자본증가율    이자보상배율이자비용        자기자본배율     순운전자본비율     순운전자본회전률\n",
       "7     총자본사업이익률         비유동비율       매출채권회전률    자기자본구성비율     자기자본순이익률\n",
       "8       기계투자효율      자기자본구성비율      매입채무회전기간      자기자본배율      총자본투자효율\n",
       "9       1주당순이익        자기자본배율      매출채권회전기간    매출채권회전기간      매출채권회전률\n",
       "10     총자본순이익률       매출채권회전률      순운전자본회전률    순운전자본회전률      총자본순이익률\n",
       "11      자기자본배율      매출채권회전기간       총자본투자효율       부가가치율      자기자본증가율"
      ]
     },
     "execution_count": 2,
     "metadata": {},
     "output_type": "execute_result"
    }
   ],
   "source": [
    "df = pd.read_csv(\"./데이터자료/9-1. MinMax 데이터셋.csv\")\n",
    "feature = pd.read_csv(\"./데이터자료/8-1. MinMAx feature.csv\")\n",
    "feature \n"
   ]
  },
  {
   "cell_type": "code",
   "execution_count": 3,
   "metadata": {},
   "outputs": [],
   "source": [
    "train = df[df[\"회계년\"] <= 2018].reset_index(drop='index')\n",
    "test  = df[df[\"회계년\"] > 2018].reset_index(drop='index')"
   ]
  },
  {
   "cell_type": "code",
   "execution_count": 4,
   "metadata": {},
   "outputs": [],
   "source": [
    "x_train = train.drop(\"label\",axis=1)\n",
    "y_train = train[\"label\"]\n",
    "x_test =test.drop(\"label\",axis=1)\n",
    "y_test = test[\"label\"]"
   ]
  },
  {
   "cell_type": "code",
   "execution_count": 5,
   "metadata": {},
   "outputs": [],
   "source": [
    "mda_feature=feature[\"mda_feature\"].tolist()\n",
    "logit_feature=feature[\"logit_feature\"].tolist()\n",
    "lasso_feature=feature[\"lasso_feature\"].tolist()\n",
    "ela_feature=feature[\"ela_feature\"].tolist()\n",
    "same_feature=feature[\"same_feature\"].tolist()"
   ]
  },
  {
   "cell_type": "code",
   "execution_count": 6,
   "metadata": {},
   "outputs": [],
   "source": [
    "# 성능확인 코드\n",
    "from sklearn.model_selection import train_test_split\n",
    "from sklearn.metrics import confusion_matrix, accuracy_score, precision_score, recall_score\n",
    "from sklearn.metrics import f1_score, roc_auc_score, average_precision_score\n",
    "\n",
    "\n",
    "import warnings\n",
    "\n",
    "def get_clf_eval(MDA_y_test, pred):\n",
    "    confusion = confusion_matrix(MDA_y_test, pred)\n",
    "    accuracy = accuracy_score(MDA_y_test, pred)\n",
    "    precision = precision_score(MDA_y_test, pred)\n",
    "    recall = recall_score(MDA_y_test, pred)\n",
    "    roc_score = roc_auc_score(MDA_y_test, pred)\n",
    "    pr_score = average_precision_score(MDA_y_test, pred)\n",
    "    f1 = f1_score(MDA_y_test, pred)\n",
    "    print('오차행렬')\n",
    "    print(confusion)\n",
    "    print('정확도: {0:.4f}, 정밀도 : {1:.4f}, 재현율:{2:.4f},F1 스코어:{3:.4f}'.format(accuracy, precision, recall, f1, roc_score))\n",
    "    print('ROC 스코어: {0:.4f}, PR score : {1:.4f}'.format(roc_score, pr_score))"
   ]
  },
  {
   "attachments": {},
   "cell_type": "markdown",
   "metadata": {},
   "source": [
    "# 1. mda_feature"
   ]
  },
  {
   "cell_type": "code",
   "execution_count": 7,
   "metadata": {},
   "outputs": [],
   "source": [
    "mda_x_train = x_train[mda_feature].reset_index(drop='index')\n",
    "mda_x_test = x_test[mda_feature].reset_index(drop='index')\n",
    "mda_y_train = train[\"label\"]\n",
    "mda_y_test = test[\"label\"]"
   ]
  },
  {
   "cell_type": "code",
   "execution_count": 8,
   "metadata": {},
   "outputs": [],
   "source": [
    "# 1-1 LDA \n",
    "from sklearn.discriminant_analysis import LinearDiscriminantAnalysis\n",
    "lda_clf = LinearDiscriminantAnalysis()\n",
    "lda_clf.fit(mda_x_train, mda_y_train)\n",
    "lda_pred = lda_clf.predict(mda_x_test)\n",
    "lda_pred_proba = lda_clf.predict_proba(mda_x_test)"
   ]
  },
  {
   "cell_type": "code",
   "execution_count": 9,
   "metadata": {},
   "outputs": [
    {
     "name": "stdout",
     "output_type": "stream",
     "text": [
      "lda\n",
      "오차행렬\n",
      "[[2252   63]\n",
      " [  32   18]]\n",
      "정확도: 0.9598, 정밀도 : 0.2222, 재현율:0.3600,F1 스코어:0.2748\n",
      "ROC 스코어: 0.6664, PR score : 0.0935\n",
      "None\n"
     ]
    }
   ],
   "source": [
    "print(\"lda\") \n",
    "print(get_clf_eval(mda_y_test, lda_pred))"
   ]
  },
  {
   "cell_type": "code",
   "execution_count": 10,
   "metadata": {},
   "outputs": [],
   "source": [
    "# 디시전트리 구현\n",
    "from sklearn.tree import DecisionTreeClassifier \n",
    "dt_clf = DecisionTreeClassifier(random_state=52)     \n",
    "dt_clf.fit(mda_x_train, mda_y_train)\n",
    "dt_pred = dt_clf.predict(mda_x_test)\n",
    "dt_pred_proba = dt_clf.predict_proba(mda_x_test)                                    "
   ]
  },
  {
   "cell_type": "code",
   "execution_count": 11,
   "metadata": {},
   "outputs": [
    {
     "name": "stdout",
     "output_type": "stream",
     "text": [
      "디시전트리\n",
      "오차행렬\n",
      "[[2265   50]\n",
      " [  42    8]]\n",
      "정확도: 0.9611, 정밀도 : 0.1379, 재현율:0.1600,F1 스코어:0.1481\n",
      "ROC 스코어: 0.5692, PR score : 0.0398\n",
      "None\n"
     ]
    }
   ],
   "source": [
    "print(\"디시전트리\") \n",
    "print(get_clf_eval(mda_y_test, dt_pred))"
   ]
  },
  {
   "cell_type": "code",
   "execution_count": 12,
   "metadata": {},
   "outputs": [],
   "source": [
    "# 랜덤포레스트 구현\n",
    "from sklearn.ensemble import RandomForestClassifier\n",
    "rf_clf = RandomForestClassifier(random_state=52)     \n",
    "rf_clf.fit(mda_x_train, mda_y_train)\n",
    "rf_pred = rf_clf.predict(mda_x_test)\n",
    "rf_pred_proba = rf_clf.predict_proba(mda_x_test)"
   ]
  },
  {
   "cell_type": "code",
   "execution_count": 13,
   "metadata": {},
   "outputs": [
    {
     "name": "stdout",
     "output_type": "stream",
     "text": [
      "랜덤포레스트\n",
      "오차행렬\n",
      "[[2308    7]\n",
      " [  41    9]]\n",
      "정확도: 0.9797, 정밀도 : 0.5625, 재현율:0.1800,F1 스코어:0.2727\n",
      "ROC 스코어: 0.5885, PR score : 0.1186\n"
     ]
    }
   ],
   "source": [
    "print(\"랜덤포레스트\") \n",
    "get_clf_eval(mda_y_test, rf_pred)"
   ]
  },
  {
   "cell_type": "code",
   "execution_count": 14,
   "metadata": {},
   "outputs": [],
   "source": [
    "# 로지스틱 회귀 모델\n",
    "from sklearn.linear_model import LogisticRegression\n",
    "lr_clf = LogisticRegression()\n",
    "lr_clf.fit(mda_x_train, mda_y_train)\n",
    "lr_pred = lr_clf.predict(mda_x_test)\n",
    "lr_pred_proba = lr_clf.predict_proba(mda_x_test)"
   ]
  },
  {
   "cell_type": "code",
   "execution_count": 15,
   "metadata": {},
   "outputs": [
    {
     "name": "stdout",
     "output_type": "stream",
     "text": [
      "로지스틱\n",
      "오차행렬\n",
      "[[2310    5]\n",
      " [  50    0]]\n",
      "정확도: 0.9767, 정밀도 : 0.0000, 재현율:0.0000,F1 스코어:0.0000\n",
      "ROC 스코어: 0.4989, PR score : 0.0211\n"
     ]
    }
   ],
   "source": [
    "print(\"로지스틱\") \n",
    "get_clf_eval(mda_y_test, lr_pred)"
   ]
  },
  {
   "cell_type": "code",
   "execution_count": 16,
   "metadata": {},
   "outputs": [
    {
     "name": "stderr",
     "output_type": "stream",
     "text": [
      "c:\\Users\\young\\anaconda3\\lib\\site-packages\\sklearn\\neighbors\\_classification.py:228: FutureWarning: Unlike other reduction functions (e.g. `skew`, `kurtosis`), the default behavior of `mode` typically preserves the axis it acts along. In SciPy 1.11.0, this behavior will change: the default value of `keepdims` will become False, the `axis` over which the statistic is taken will be eliminated, and the value None will no longer be accepted. Set `keepdims` to True or False to avoid this warning.\n",
      "  mode, _ = stats.mode(_y[neigh_ind, k], axis=1)\n"
     ]
    }
   ],
   "source": [
    "# KNN 모형 구현\n",
    "from sklearn.neighbors import KNeighborsClassifier\n",
    "\n",
    "knn_clf = KNeighborsClassifier(n_neighbors=5)\n",
    "knn_clf.fit(mda_x_train, mda_y_train)\n",
    "knn_pred = knn_clf.predict(mda_x_test)\n",
    "knn_pred_proba = knn_clf.predict_proba(mda_x_test)"
   ]
  },
  {
   "cell_type": "code",
   "execution_count": 17,
   "metadata": {},
   "outputs": [
    {
     "name": "stdout",
     "output_type": "stream",
     "text": [
      "knn\n",
      "오차행렬\n",
      "[[2312    3]\n",
      " [  42    8]]\n",
      "정확도: 0.9810, 정밀도 : 0.7273, 재현율:0.1600,F1 스코어:0.2623\n",
      "ROC 스코어: 0.5794, PR score : 0.1341\n"
     ]
    }
   ],
   "source": [
    "print(\"knn\") \n",
    "get_clf_eval(mda_y_test, knn_pred)"
   ]
  },
  {
   "cell_type": "code",
   "execution_count": 18,
   "metadata": {},
   "outputs": [],
   "source": [
    "from xgboost import XGBClassifier\n",
    "from sklearn.model_selection import train_test_split\n",
    "import xgboost as xgb ## XGBoost 불러오기\n",
    "from xgboost import plot_importance \n",
    "mda_x_train2 = mda_x_train.copy()\n",
    "mda_x_test2 = mda_x_test.copy()\n",
    "mda_y_train2 = mda_y_train.copy()\n",
    "mda_y_test2 = mda_y_test.copy()\n",
    "mda_x_train2.columns = [mda_feature]\n",
    "mda_x_test2.columns =[mda_feature]\n",
    "\n",
    "xgb_wrapper = XGBClassifier()\n",
    "\n",
    "xgb_wrapper.fit(mda_x_train2, mda_y_train2, verbose = True)\n",
    "\n",
    "\n",
    "xgb_pred = xgb_wrapper.predict(mda_x_test)\n",
    "xgb_pred_proba = xgb_wrapper.predict_proba(mda_x_test)"
   ]
  },
  {
   "cell_type": "code",
   "execution_count": 19,
   "metadata": {},
   "outputs": [
    {
     "name": "stdout",
     "output_type": "stream",
     "text": [
      "xgb\n",
      "오차행렬\n",
      "[[2302   13]\n",
      " [  40   10]]\n",
      "정확도: 0.9776, 정밀도 : 0.4348, 재현율:0.2000,F1 스코어:0.2740\n",
      "ROC 스코어: 0.5972, PR score : 0.1039\n"
     ]
    }
   ],
   "source": [
    "print(\"xgb\") \n",
    "get_clf_eval(mda_y_test, xgb_pred)"
   ]
  },
  {
   "attachments": {},
   "cell_type": "markdown",
   "metadata": {},
   "source": [
    "# 2. lasso_feature"
   ]
  },
  {
   "cell_type": "code",
   "execution_count": 20,
   "metadata": {},
   "outputs": [],
   "source": [
    "logit_x_train = x_train[logit_feature].reset_index(drop='index')\n",
    "logit_x_test = x_test[logit_feature].reset_index(drop='index')\n",
    "logit_y_train = train[\"label\"]\n",
    "logit_y_test = test[\"label\"]"
   ]
  },
  {
   "cell_type": "code",
   "execution_count": 21,
   "metadata": {},
   "outputs": [],
   "source": [
    "# 1-1 LDA \n",
    "from sklearn.discriminant_analysis import LinearDiscriminantAnalysis\n",
    "lda_clf = LinearDiscriminantAnalysis()\n",
    "lda_clf.fit(logit_x_train, logit_y_train)\n",
    "lda_pred = lda_clf.predict(logit_x_test)\n",
    "lda_pred_proba = lda_clf.predict_proba(logit_x_test)"
   ]
  },
  {
   "cell_type": "code",
   "execution_count": 22,
   "metadata": {},
   "outputs": [
    {
     "name": "stdout",
     "output_type": "stream",
     "text": [
      "lda\n",
      "오차행렬\n",
      "[[2304   11]\n",
      " [  45    5]]\n",
      "정확도: 0.9763, 정밀도 : 0.3125, 재현율:0.1000,F1 스코어:0.1515\n",
      "ROC 스코어: 0.5476, PR score : 0.0503\n",
      "None\n"
     ]
    }
   ],
   "source": [
    "print(\"lda\") \n",
    "print(get_clf_eval(logit_y_test, lda_pred))"
   ]
  },
  {
   "cell_type": "code",
   "execution_count": 23,
   "metadata": {},
   "outputs": [],
   "source": [
    "# 디시전트리 구현\n",
    "from sklearn.tree import DecisionTreeClassifier \n",
    "dt_clf = DecisionTreeClassifier(random_state=52)     \n",
    "dt_clf.fit(logit_x_train, logit_y_train)\n",
    "dt_pred = dt_clf.predict(logit_x_test)\n",
    "dt_pred_proba = dt_clf.predict_proba(logit_x_test)                                    "
   ]
  },
  {
   "cell_type": "code",
   "execution_count": 24,
   "metadata": {},
   "outputs": [
    {
     "name": "stdout",
     "output_type": "stream",
     "text": [
      "디시전트리\n",
      "오차행렬\n",
      "[[2257   58]\n",
      " [  43    7]]\n",
      "정확도: 0.9573, 정밀도 : 0.1077, 재현율:0.1400,F1 스코어:0.1217\n",
      "ROC 스코어: 0.5575, PR score : 0.0333\n",
      "None\n"
     ]
    }
   ],
   "source": [
    "print(\"디시전트리\") \n",
    "print(get_clf_eval(logit_y_test, dt_pred))"
   ]
  },
  {
   "cell_type": "code",
   "execution_count": 25,
   "metadata": {},
   "outputs": [],
   "source": [
    "# 랜덤포레스트 구현\n",
    "from sklearn.ensemble import RandomForestClassifier\n",
    "rf_clf = RandomForestClassifier(random_state=52)     \n",
    "rf_clf.fit(logit_x_train, logit_y_train)\n",
    "rf_pred = rf_clf.predict(logit_x_test)\n",
    "rf_pred_proba = rf_clf.predict_proba(logit_x_test)"
   ]
  },
  {
   "cell_type": "code",
   "execution_count": 26,
   "metadata": {},
   "outputs": [
    {
     "name": "stdout",
     "output_type": "stream",
     "text": [
      "랜덤포레스트\n",
      "오차행렬\n",
      "[[2304   11]\n",
      " [  43    7]]\n",
      "정확도: 0.9772, 정밀도 : 0.3889, 재현율:0.1400,F1 스코어:0.2059\n",
      "ROC 스코어: 0.5676, PR score : 0.0726\n"
     ]
    }
   ],
   "source": [
    "print(\"랜덤포레스트\") \n",
    "get_clf_eval(logit_y_test, rf_pred)"
   ]
  },
  {
   "cell_type": "code",
   "execution_count": 27,
   "metadata": {},
   "outputs": [],
   "source": [
    "# 로지스틱 회귀 모델\n",
    "from sklearn.linear_model import LogisticRegression\n",
    "lr_clf = LogisticRegression()\n",
    "lr_clf.fit(logit_x_train, logit_y_train)\n",
    "lr_pred = lr_clf.predict(logit_x_test)\n",
    "lr_pred_proba = lr_clf.predict_proba(logit_x_test)"
   ]
  },
  {
   "cell_type": "code",
   "execution_count": 28,
   "metadata": {},
   "outputs": [
    {
     "name": "stdout",
     "output_type": "stream",
     "text": [
      "로지스틱\n",
      "오차행렬\n",
      "[[2314    1]\n",
      " [  49    1]]\n",
      "정확도: 0.9789, 정밀도 : 0.5000, 재현율:0.0200,F1 스코어:0.0385\n",
      "ROC 스코어: 0.5098, PR score : 0.0307\n"
     ]
    }
   ],
   "source": [
    "print(\"로지스틱\") \n",
    "get_clf_eval(logit_y_test, lr_pred)"
   ]
  },
  {
   "cell_type": "code",
   "execution_count": 29,
   "metadata": {},
   "outputs": [
    {
     "name": "stderr",
     "output_type": "stream",
     "text": [
      "c:\\Users\\young\\anaconda3\\lib\\site-packages\\sklearn\\neighbors\\_classification.py:228: FutureWarning: Unlike other reduction functions (e.g. `skew`, `kurtosis`), the default behavior of `mode` typically preserves the axis it acts along. In SciPy 1.11.0, this behavior will change: the default value of `keepdims` will become False, the `axis` over which the statistic is taken will be eliminated, and the value None will no longer be accepted. Set `keepdims` to True or False to avoid this warning.\n",
      "  mode, _ = stats.mode(_y[neigh_ind, k], axis=1)\n"
     ]
    }
   ],
   "source": [
    "from sklearn.neighbors import KNeighborsClassifier\n",
    "\n",
    "knn_clf = KNeighborsClassifier(n_neighbors=5)\n",
    "knn_clf.fit(logit_x_train, logit_y_train)\n",
    "knn_pred = knn_clf.predict(logit_x_test)\n",
    "knn_pred_proba = knn_clf.predict_proba(logit_x_test)"
   ]
  },
  {
   "cell_type": "code",
   "execution_count": 30,
   "metadata": {},
   "outputs": [
    {
     "name": "stdout",
     "output_type": "stream",
     "text": [
      "knn\n",
      "오차행렬\n",
      "[[2312    3]\n",
      " [  48    2]]\n",
      "정확도: 0.9784, 정밀도 : 0.4000, 재현율:0.0400,F1 스코어:0.0727\n",
      "ROC 스코어: 0.5194, PR score : 0.0363\n"
     ]
    }
   ],
   "source": [
    "print(\"knn\") \n",
    "get_clf_eval(logit_y_test, knn_pred)"
   ]
  },
  {
   "cell_type": "code",
   "execution_count": 31,
   "metadata": {},
   "outputs": [],
   "source": [
    "from xgboost import XGBClassifier\n",
    "from sklearn.model_selection import train_test_split\n",
    "import xgboost as xgb ## XGBoost 불러오기\n",
    "from xgboost import plot_importance \n",
    "logit_x_train2 = logit_x_train.copy()\n",
    "logit_x_test2 = logit_x_test.copy()\n",
    "logit_y_train2 = logit_y_train.copy()\n",
    "logit_y_test2 = logit_y_test.copy()\n",
    "logit_x_train2.columns = [logit_feature]\n",
    "logit_x_test2.columns =[logit_feature]\n",
    "\n",
    "xgb_wrapper = XGBClassifier()\n",
    "\n",
    "xgb_wrapper.fit(logit_x_train2, logit_y_train2, verbose = True)\n",
    "\n",
    "\n",
    "xgb_pred = xgb_wrapper.predict(logit_x_test)\n",
    "xgb_pred_proba = xgb_wrapper.predict_proba(logit_x_test)"
   ]
  },
  {
   "cell_type": "code",
   "execution_count": 32,
   "metadata": {},
   "outputs": [
    {
     "name": "stdout",
     "output_type": "stream",
     "text": [
      "xgb\n",
      "오차행렬\n",
      "[[2301   14]\n",
      " [  43    7]]\n",
      "정확도: 0.9759, 정밀도 : 0.3333, 재현율:0.1400,F1 스코어:0.1972\n",
      "ROC 스코어: 0.5670, PR score : 0.0648\n"
     ]
    }
   ],
   "source": [
    "print(\"xgb\") \n",
    "get_clf_eval(logit_y_test, xgb_pred)"
   ]
  },
  {
   "cell_type": "code",
   "execution_count": 33,
   "metadata": {},
   "outputs": [],
   "source": [
    "class Perceptron(object):\n",
    "    \n",
    "    def __init__(self, eta = 0.1, n_iter = 50, random_state = 1): #초기화\n",
    "        self.eta = eta\n",
    "        self.n_iter = n_iter\n",
    "        self.random_state = random_state\n",
    "        \n",
    "    \n",
    "    def fit(self, X, y): #학습\n",
    "        rgen = np.random.RandomState(self.random_state)\n",
    "        self.w_ = rgen.normal(loc = 0, scale = 0,\n",
    "                             size = 1 + X.shape[1])\n",
    "        \n",
    "        self.errors_ = []\n",
    "        for _ in range(self.n_iter):\n",
    "            errors = 0\n",
    "            for i in range(len(X)):\n",
    "                xi = X.iloc[i].values\n",
    "                target = y[i]\n",
    "                update = self.eta * (target - self.predict(xi))\n",
    "                self.w_[1:] += update * xi\n",
    "                self.w_[0] += update\n",
    "                errors += int(update != 0.0)\n",
    "            self.errors_.append(errors)\n",
    "        return self\n",
    "    \n",
    "    def predict(self, X): #추론\n",
    "        return np.where(self.net_input(X) >= 0.0, 1, 0)\n",
    "    \n",
    "    def net_input(self, X):\n",
    "        return np.dot(X, self.w_[1:]) + self.w_[0]\n",
    "\n",
    "pc_clf = Perceptron(n_iter = 10)\n",
    "pc_clf.fit(logit_x_train, logit_y_train)\n",
    "pc_pred = pc_clf.predict(logit_x_test)"
   ]
  },
  {
   "cell_type": "code",
   "execution_count": 34,
   "metadata": {},
   "outputs": [
    {
     "name": "stdout",
     "output_type": "stream",
     "text": [
      "퍼셉트론\n",
      "오차행렬\n",
      "[[2313    2]\n",
      " [  49    1]]\n",
      "정확도: 0.9784, 정밀도 : 0.3333, 재현율:0.0200,F1 스코어:0.0377\n",
      "ROC 스코어: 0.5096, PR score : 0.0274\n"
     ]
    }
   ],
   "source": [
    "print(\"퍼셉트론\") \n",
    "get_clf_eval(logit_y_test, pc_pred)"
   ]
  },
  {
   "attachments": {},
   "cell_type": "markdown",
   "metadata": {},
   "source": [
    "# 3. lasso"
   ]
  },
  {
   "cell_type": "code",
   "execution_count": 35,
   "metadata": {},
   "outputs": [],
   "source": [
    "lasso_x_train = x_train[lasso_feature].reset_index(drop='index')\n",
    "lasso_x_test = x_test[lasso_feature].reset_index(drop='index')\n",
    "lasso_y_train = train[\"label\"]\n",
    "lasso_y_test = test[\"label\"]"
   ]
  },
  {
   "cell_type": "code",
   "execution_count": 36,
   "metadata": {},
   "outputs": [],
   "source": [
    "# 1-1 LDA \n",
    "from sklearn.discriminant_analysis import LinearDiscriminantAnalysis\n",
    "lda_clf = LinearDiscriminantAnalysis()\n",
    "lda_clf.fit(lasso_x_train, lasso_y_train)\n",
    "lda_pred = lda_clf.predict(lasso_x_test)\n",
    "lda_pred_proba = lda_clf.predict_proba(lasso_x_test)"
   ]
  },
  {
   "cell_type": "code",
   "execution_count": 37,
   "metadata": {},
   "outputs": [
    {
     "name": "stdout",
     "output_type": "stream",
     "text": [
      "lda\n",
      "오차행렬\n",
      "[[2255   60]\n",
      " [  30   20]]\n",
      "정확도: 0.9619, 정밀도 : 0.2500, 재현율:0.4000,F1 스코어:0.3077\n",
      "ROC 스코어: 0.6870, PR score : 0.1127\n",
      "None\n"
     ]
    }
   ],
   "source": [
    "print(\"lda\") \n",
    "print(get_clf_eval(lasso_y_test, lda_pred))"
   ]
  },
  {
   "cell_type": "code",
   "execution_count": 38,
   "metadata": {},
   "outputs": [],
   "source": [
    "# 디시전트리 구현\n",
    "from sklearn.tree import DecisionTreeClassifier \n",
    "dt_clf = DecisionTreeClassifier(random_state=52)     \n",
    "dt_clf.fit(lasso_x_train, lasso_y_train)\n",
    "dt_pred = dt_clf.predict(lasso_x_test)\n",
    "dt_pred_proba = dt_clf.predict_proba(lasso_x_test)                                    "
   ]
  },
  {
   "cell_type": "code",
   "execution_count": 39,
   "metadata": {},
   "outputs": [
    {
     "name": "stdout",
     "output_type": "stream",
     "text": [
      "디시전트리\n",
      "오차행렬\n",
      "[[2269   46]\n",
      " [  40   10]]\n",
      "정확도: 0.9636, 정밀도 : 0.1786, 재현율:0.2000,F1 스코어:0.1887\n",
      "ROC 스코어: 0.5901, PR score : 0.0526\n",
      "None\n"
     ]
    }
   ],
   "source": [
    "print(\"디시전트리\") \n",
    "print(get_clf_eval(lasso_y_test, dt_pred))"
   ]
  },
  {
   "cell_type": "code",
   "execution_count": 40,
   "metadata": {},
   "outputs": [],
   "source": [
    "# 랜덤포레스트 구현\n",
    "from sklearn.ensemble import RandomForestClassifier\n",
    "rf_clf = RandomForestClassifier(random_state=52)     \n",
    "rf_clf.fit(lasso_x_train, lasso_y_train)\n",
    "rf_pred = rf_clf.predict(lasso_x_test)\n",
    "rf_pred_proba = rf_clf.predict_proba(lasso_x_test)"
   ]
  },
  {
   "cell_type": "code",
   "execution_count": 41,
   "metadata": {},
   "outputs": [
    {
     "name": "stdout",
     "output_type": "stream",
     "text": [
      "랜덤포레스트\n",
      "오차행렬\n",
      "[[2307    8]\n",
      " [  42    8]]\n",
      "정확도: 0.9789, 정밀도 : 0.5000, 재현율:0.1600,F1 스코어:0.2424\n",
      "ROC 스코어: 0.5783, PR score : 0.0978\n"
     ]
    }
   ],
   "source": [
    "print(\"랜덤포레스트\") \n",
    "get_clf_eval(lasso_y_test, rf_pred)"
   ]
  },
  {
   "cell_type": "code",
   "execution_count": 42,
   "metadata": {},
   "outputs": [],
   "source": [
    "# 로지스틱 회귀 모델\n",
    "from sklearn.linear_model import LogisticRegression\n",
    "lr_clf = LogisticRegression()\n",
    "lr_clf.fit(lasso_x_train, lasso_y_train)\n",
    "lr_pred = lr_clf.predict(lasso_x_test)\n",
    "lr_pred_proba = lr_clf.predict_proba(lasso_x_test)"
   ]
  },
  {
   "cell_type": "code",
   "execution_count": 43,
   "metadata": {},
   "outputs": [
    {
     "name": "stdout",
     "output_type": "stream",
     "text": [
      "로지스틱\n",
      "오차행렬\n",
      "[[2311    4]\n",
      " [  48    2]]\n",
      "정확도: 0.9780, 정밀도 : 0.3333, 재현율:0.0400,F1 스코어:0.0714\n",
      "ROC 스코어: 0.5191, PR score : 0.0336\n"
     ]
    }
   ],
   "source": [
    "print(\"로지스틱\") \n",
    "get_clf_eval(lasso_y_test, lr_pred)"
   ]
  },
  {
   "cell_type": "code",
   "execution_count": 44,
   "metadata": {},
   "outputs": [
    {
     "name": "stderr",
     "output_type": "stream",
     "text": [
      "c:\\Users\\young\\anaconda3\\lib\\site-packages\\sklearn\\neighbors\\_classification.py:228: FutureWarning: Unlike other reduction functions (e.g. `skew`, `kurtosis`), the default behavior of `mode` typically preserves the axis it acts along. In SciPy 1.11.0, this behavior will change: the default value of `keepdims` will become False, the `axis` over which the statistic is taken will be eliminated, and the value None will no longer be accepted. Set `keepdims` to True or False to avoid this warning.\n",
      "  mode, _ = stats.mode(_y[neigh_ind, k], axis=1)\n"
     ]
    }
   ],
   "source": [
    "from sklearn.neighbors import KNeighborsClassifier\n",
    "\n",
    "knn_clf = KNeighborsClassifier(n_neighbors=5)\n",
    "knn_clf.fit(lasso_x_train, lasso_y_train)\n",
    "knn_pred = knn_clf.predict(lasso_x_test)\n",
    "knn_pred_proba = knn_clf.predict_proba(lasso_x_test)"
   ]
  },
  {
   "cell_type": "code",
   "execution_count": 45,
   "metadata": {},
   "outputs": [
    {
     "name": "stdout",
     "output_type": "stream",
     "text": [
      "knn\n",
      "오차행렬\n",
      "[[2314    1]\n",
      " [  49    1]]\n",
      "정확도: 0.9789, 정밀도 : 0.5000, 재현율:0.0200,F1 스코어:0.0385\n",
      "ROC 스코어: 0.5098, PR score : 0.0307\n"
     ]
    }
   ],
   "source": [
    "print(\"knn\") \n",
    "get_clf_eval(lasso_y_test, knn_pred)"
   ]
  },
  {
   "cell_type": "code",
   "execution_count": 46,
   "metadata": {},
   "outputs": [],
   "source": [
    "from xgboost import XGBClassifier\n",
    "from sklearn.model_selection import train_test_split\n",
    "import xgboost as xgb ## XGBoost 불러오기\n",
    "from xgboost import plot_importance \n",
    "lasso_x_train2 = lasso_x_train.copy()\n",
    "lasso_x_test2 = lasso_x_test.copy()\n",
    "lasso_y_train2 = lasso_y_train.copy()\n",
    "lasso_y_test2 = lasso_y_test.copy()\n",
    "lasso_x_train2.columns = [lasso_feature]\n",
    "lasso_x_test2.columns =[lasso_feature]\n",
    "\n",
    "xgb_wrapper = XGBClassifier()\n",
    "\n",
    "xgb_wrapper.fit(lasso_x_train2, lasso_y_train2, verbose = True)\n",
    "\n",
    "\n",
    "xgb_pred = xgb_wrapper.predict(lasso_x_test)\n",
    "xgb_pred_proba = xgb_wrapper.predict_proba(lasso_x_test)"
   ]
  },
  {
   "cell_type": "code",
   "execution_count": 47,
   "metadata": {},
   "outputs": [
    {
     "name": "stdout",
     "output_type": "stream",
     "text": [
      "xgb\n",
      "오차행렬\n",
      "[[2304   11]\n",
      " [  41    9]]\n",
      "정확도: 0.9780, 정밀도 : 0.4500, 재현율:0.1800,F1 스코어:0.2571\n",
      "ROC 스코어: 0.5876, PR score : 0.0983\n"
     ]
    }
   ],
   "source": [
    "print(\"xgb\") \n",
    "get_clf_eval(lasso_y_test, xgb_pred)"
   ]
  },
  {
   "cell_type": "code",
   "execution_count": 48,
   "metadata": {},
   "outputs": [],
   "source": [
    "class Perceptron(object):\n",
    "    \n",
    "    def __init__(self, eta = 0.1, n_iter = 50, random_state = 1): #초기화\n",
    "        self.eta = eta\n",
    "        self.n_iter = n_iter\n",
    "        self.random_state = random_state\n",
    "        \n",
    "    \n",
    "    def fit(self, X, y): #학습\n",
    "        rgen = np.random.RandomState(self.random_state)\n",
    "        self.w_ = rgen.normal(loc = 0, scale = 0,\n",
    "                             size = 1 + X.shape[1])\n",
    "        \n",
    "        self.errors_ = []\n",
    "        for _ in range(self.n_iter):\n",
    "            errors = 0\n",
    "            for i in range(len(X)):\n",
    "                xi = X.iloc[i].values\n",
    "                target = y[i]\n",
    "                update = self.eta * (target - self.predict(xi))\n",
    "                self.w_[1:] += update * xi\n",
    "                self.w_[0] += update\n",
    "                errors += int(update != 0.0)\n",
    "            self.errors_.append(errors)\n",
    "        return self\n",
    "    \n",
    "    def predict(self, X): #추론\n",
    "        return np.where(self.net_input(X) >= 0.0, 1, 0)\n",
    "    \n",
    "    def net_input(self, X):\n",
    "        return np.dot(X, self.w_[1:]) + self.w_[0]\n",
    "\n",
    "pc_clf = Perceptron(n_iter = 10)\n",
    "pc_clf.fit(lasso_x_train, lasso_y_train)\n",
    "pc_pred = pc_clf.predict(lasso_x_test)"
   ]
  },
  {
   "cell_type": "code",
   "execution_count": 49,
   "metadata": {},
   "outputs": [
    {
     "name": "stdout",
     "output_type": "stream",
     "text": [
      "퍼셉트론\n",
      "오차행렬\n",
      "[[2308    7]\n",
      " [  47    3]]\n",
      "정확도: 0.9772, 정밀도 : 0.3000, 재현율:0.0600,F1 스코어:0.1000\n",
      "ROC 스코어: 0.5285, PR score : 0.0379\n"
     ]
    }
   ],
   "source": [
    "print(\"퍼셉트론\") \n",
    "get_clf_eval(lasso_y_test, pc_pred)"
   ]
  },
  {
   "cell_type": "code",
   "execution_count": 50,
   "metadata": {},
   "outputs": [],
   "source": [
    "ela_x_train = x_train[ela_feature].reset_index(drop='index')\n",
    "ela_x_test = x_test[ela_feature].reset_index(drop='index')\n",
    "ela_y_train = train[\"label\"]\n",
    "ela_y_test = test[\"label\"]"
   ]
  },
  {
   "cell_type": "code",
   "execution_count": 51,
   "metadata": {},
   "outputs": [],
   "source": [
    "# 1-1 LDA \n",
    "from sklearn.discriminant_analysis import LinearDiscriminantAnalysis\n",
    "lda_clf = LinearDiscriminantAnalysis()\n",
    "lda_clf.fit(ela_x_train, ela_y_train)\n",
    "lda_pred = lda_clf.predict(ela_x_test)\n",
    "lda_pred_proba = lda_clf.predict_proba(ela_x_test)"
   ]
  },
  {
   "cell_type": "code",
   "execution_count": 52,
   "metadata": {},
   "outputs": [
    {
     "name": "stdout",
     "output_type": "stream",
     "text": [
      "lda\n",
      "오차행렬\n",
      "[[2254   61]\n",
      " [  31   19]]\n",
      "정확도: 0.9611, 정밀도 : 0.2375, 재현율:0.3800,F1 스코어:0.2923\n",
      "ROC 스코어: 0.6768, PR score : 0.1034\n",
      "None\n"
     ]
    }
   ],
   "source": [
    "print(\"lda\") \n",
    "print(get_clf_eval(ela_y_test, lda_pred))"
   ]
  },
  {
   "cell_type": "code",
   "execution_count": 53,
   "metadata": {},
   "outputs": [],
   "source": [
    "# 디시전트리 구현\n",
    "from sklearn.tree import DecisionTreeClassifier \n",
    "dt_clf = DecisionTreeClassifier(random_state=52)     \n",
    "dt_clf.fit(ela_x_train, ela_y_train)\n",
    "dt_pred = dt_clf.predict(ela_x_test)\n",
    "dt_pred_proba = dt_clf.predict_proba(ela_x_test)                                    "
   ]
  },
  {
   "cell_type": "code",
   "execution_count": 54,
   "metadata": {},
   "outputs": [
    {
     "name": "stdout",
     "output_type": "stream",
     "text": [
      "디시전트리\n",
      "오차행렬\n",
      "[[2268   47]\n",
      " [  40   10]]\n",
      "정확도: 0.9632, 정밀도 : 0.1754, 재현율:0.2000,F1 스코어:0.1869\n",
      "ROC 스코어: 0.5898, PR score : 0.0520\n",
      "None\n"
     ]
    }
   ],
   "source": [
    "print(\"디시전트리\") \n",
    "print(get_clf_eval(ela_y_test, dt_pred))"
   ]
  },
  {
   "cell_type": "code",
   "execution_count": 55,
   "metadata": {},
   "outputs": [],
   "source": [
    "# 랜덤포레스트 구현\n",
    "from sklearn.ensemble import RandomForestClassifier\n",
    "rf_clf = RandomForestClassifier(random_state=52)     \n",
    "rf_clf.fit(ela_x_train, ela_y_train)\n",
    "rf_pred = rf_clf.predict(ela_x_test)\n",
    "rf_pred_proba = rf_clf.predict_proba(ela_x_test)"
   ]
  },
  {
   "cell_type": "code",
   "execution_count": 56,
   "metadata": {},
   "outputs": [
    {
     "name": "stdout",
     "output_type": "stream",
     "text": [
      "랜덤포레스트\n",
      "오차행렬\n",
      "[[2306    9]\n",
      " [  42    8]]\n",
      "정확도: 0.9784, 정밀도 : 0.4706, 재현율:0.1600,F1 스코어:0.2388\n",
      "ROC 스코어: 0.5781, PR score : 0.0931\n"
     ]
    }
   ],
   "source": [
    "print(\"랜덤포레스트\") \n",
    "get_clf_eval(ela_y_test, rf_pred)"
   ]
  },
  {
   "cell_type": "code",
   "execution_count": 57,
   "metadata": {},
   "outputs": [],
   "source": [
    "# 로지스틱 회귀 모델\n",
    "from sklearn.linear_model import LogisticRegression\n",
    "lr_clf = LogisticRegression()\n",
    "lr_clf.fit(ela_x_train, ela_y_train)\n",
    "lr_pred = lr_clf.predict(ela_x_test)\n",
    "lr_pred_proba = lr_clf.predict_proba(ela_x_test)"
   ]
  },
  {
   "cell_type": "code",
   "execution_count": 58,
   "metadata": {},
   "outputs": [
    {
     "name": "stdout",
     "output_type": "stream",
     "text": [
      "로지스틱\n",
      "오차행렬\n",
      "[[2311    4]\n",
      " [  48    2]]\n",
      "정확도: 0.9780, 정밀도 : 0.3333, 재현율:0.0400,F1 스코어:0.0714\n",
      "ROC 스코어: 0.5191, PR score : 0.0336\n"
     ]
    }
   ],
   "source": [
    "print(\"로지스틱\") \n",
    "get_clf_eval(ela_y_test, lr_pred)"
   ]
  },
  {
   "cell_type": "code",
   "execution_count": 59,
   "metadata": {},
   "outputs": [
    {
     "name": "stderr",
     "output_type": "stream",
     "text": [
      "c:\\Users\\young\\anaconda3\\lib\\site-packages\\sklearn\\neighbors\\_classification.py:228: FutureWarning: Unlike other reduction functions (e.g. `skew`, `kurtosis`), the default behavior of `mode` typically preserves the axis it acts along. In SciPy 1.11.0, this behavior will change: the default value of `keepdims` will become False, the `axis` over which the statistic is taken will be eliminated, and the value None will no longer be accepted. Set `keepdims` to True or False to avoid this warning.\n",
      "  mode, _ = stats.mode(_y[neigh_ind, k], axis=1)\n"
     ]
    }
   ],
   "source": [
    "from sklearn.neighbors import KNeighborsClassifier\n",
    "\n",
    "knn_clf = KNeighborsClassifier(n_neighbors=5)\n",
    "knn_clf.fit(ela_x_train, ela_y_train)\n",
    "knn_pred = knn_clf.predict(ela_x_test)\n",
    "knn_pred_proba = knn_clf.predict_proba(ela_x_test)"
   ]
  },
  {
   "cell_type": "code",
   "execution_count": 60,
   "metadata": {},
   "outputs": [
    {
     "name": "stdout",
     "output_type": "stream",
     "text": [
      "knn\n",
      "오차행렬\n",
      "[[2310    5]\n",
      " [  43    7]]\n",
      "정확도: 0.9797, 정밀도 : 0.5833, 재현율:0.1400,F1 스코어:0.2258\n",
      "ROC 스코어: 0.5689, PR score : 0.0998\n"
     ]
    }
   ],
   "source": [
    "print(\"knn\") \n",
    "get_clf_eval(ela_y_test, knn_pred)"
   ]
  },
  {
   "cell_type": "code",
   "execution_count": 61,
   "metadata": {},
   "outputs": [],
   "source": [
    "from xgboost import XGBClassifier\n",
    "from sklearn.model_selection import train_test_split\n",
    "import xgboost as xgb ## XGBoost 불러오기\n",
    "from xgboost import plot_importance \n",
    "ela_x_train2 = ela_x_train.copy()\n",
    "ela_x_test2 = ela_x_test.copy()\n",
    "ela_y_train2 = ela_y_train.copy()\n",
    "ela_y_test2 = ela_y_test.copy()\n",
    "ela_x_train2.columns = [ela_feature]\n",
    "ela_x_test2.columns =[ela_feature]\n",
    "\n",
    "xgb_wrapper = XGBClassifier()\n",
    "\n",
    "xgb_wrapper.fit(ela_x_train2, ela_y_train2, verbose = True)\n",
    "\n",
    "\n",
    "xgb_pred = xgb_wrapper.predict(ela_x_test)\n",
    "xgb_pred_proba = xgb_wrapper.predict_proba(ela_x_test)"
   ]
  },
  {
   "cell_type": "code",
   "execution_count": 62,
   "metadata": {},
   "outputs": [
    {
     "name": "stdout",
     "output_type": "stream",
     "text": [
      "xgb\n",
      "오차행렬\n",
      "[[2300   15]\n",
      " [  39   11]]\n",
      "정확도: 0.9772, 정밀도 : 0.4231, 재현율:0.2200,F1 스코어:0.2895\n",
      "ROC 스코어: 0.6068, PR score : 0.1096\n"
     ]
    }
   ],
   "source": [
    "print(\"xgb\") \n",
    "get_clf_eval(ela_y_test, xgb_pred)"
   ]
  },
  {
   "cell_type": "code",
   "execution_count": 63,
   "metadata": {},
   "outputs": [],
   "source": [
    "class Perceptron(object):\n",
    "    \n",
    "    def __init__(self, eta = 0.1, n_iter = 50, random_state = 1): #초기화\n",
    "        self.eta = eta\n",
    "        self.n_iter = n_iter\n",
    "        self.random_state = random_state\n",
    "        \n",
    "    \n",
    "    def fit(self, X, y): #학습\n",
    "        rgen = np.random.RandomState(self.random_state)\n",
    "        self.w_ = rgen.normal(loc = 0, scale = 0,\n",
    "                             size = 1 + X.shape[1])\n",
    "        \n",
    "        self.errors_ = []\n",
    "        for _ in range(self.n_iter):\n",
    "            errors = 0\n",
    "            for i in range(len(X)):\n",
    "                xi = X.iloc[i].values\n",
    "                target = y[i]\n",
    "                update = self.eta * (target - self.predict(xi))\n",
    "                self.w_[1:] += update * xi\n",
    "                self.w_[0] += update\n",
    "                errors += int(update != 0.0)\n",
    "            self.errors_.append(errors)\n",
    "        return self\n",
    "    \n",
    "    def predict(self, X): #추론\n",
    "        return np.where(self.net_input(X) >= 0.0, 1, 0)\n",
    "    \n",
    "    def net_input(self, X):\n",
    "        return np.dot(X, self.w_[1:]) + self.w_[0]\n",
    "\n",
    "pc_clf = Perceptron(n_iter = 10)\n",
    "pc_clf.fit(ela_x_train, ela_y_train)\n",
    "pc_pred = pc_clf.predict(ela_x_test)"
   ]
  },
  {
   "cell_type": "code",
   "execution_count": 64,
   "metadata": {},
   "outputs": [
    {
     "name": "stdout",
     "output_type": "stream",
     "text": [
      "퍼셉트론\n",
      "오차행렬\n",
      "[[2310    5]\n",
      " [  49    1]]\n",
      "정확도: 0.9772, 정밀도 : 0.1667, 재현율:0.0200,F1 스코어:0.0357\n",
      "ROC 스코어: 0.5089, PR score : 0.0241\n"
     ]
    }
   ],
   "source": [
    "print(\"퍼셉트론\") \n",
    "get_clf_eval(ela_y_test, pc_pred)"
   ]
  },
  {
   "attachments": {},
   "cell_type": "markdown",
   "metadata": {},
   "source": [
    "# 5. 공통"
   ]
  },
  {
   "cell_type": "code",
   "execution_count": 65,
   "metadata": {},
   "outputs": [],
   "source": [
    "same_x_train = x_train[same_feature].reset_index(drop='index')\n",
    "same_x_test = x_test[same_feature].reset_index(drop='index')\n",
    "same_y_train = train[\"label\"]\n",
    "same_y_test = test[\"label\"]"
   ]
  },
  {
   "cell_type": "code",
   "execution_count": 66,
   "metadata": {},
   "outputs": [],
   "source": [
    "# 1-1 LDA \n",
    "from sklearn.discriminant_analysis import LinearDiscriminantAnalysis\n",
    "lda_clf = LinearDiscriminantAnalysis()\n",
    "lda_clf.fit(same_x_train, same_y_train)\n",
    "lda_pred = lda_clf.predict(same_x_test)\n",
    "lda_pred_proba = lda_clf.predict_proba(same_x_test)"
   ]
  },
  {
   "cell_type": "code",
   "execution_count": 67,
   "metadata": {},
   "outputs": [
    {
     "name": "stdout",
     "output_type": "stream",
     "text": [
      "lda\n",
      "오차행렬\n",
      "[[2260   55]\n",
      " [  31   19]]\n",
      "정확도: 0.9636, 정밀도 : 0.2568, 재현율:0.3800,F1 스코어:0.3065\n",
      "ROC 스코어: 0.6781, PR score : 0.1107\n",
      "None\n"
     ]
    }
   ],
   "source": [
    "print(\"lda\") \n",
    "print(get_clf_eval(same_y_test, lda_pred))"
   ]
  },
  {
   "cell_type": "code",
   "execution_count": 68,
   "metadata": {},
   "outputs": [],
   "source": [
    "# 디시전트리 구현\n",
    "from sklearn.tree import DecisionTreeClassifier \n",
    "dt_clf = DecisionTreeClassifier(random_state=52)     \n",
    "dt_clf.fit(same_x_train, same_y_train)\n",
    "dt_pred = dt_clf.predict(same_x_test)\n",
    "dt_pred_proba = dt_clf.predict_proba(same_x_test)                                    "
   ]
  },
  {
   "cell_type": "code",
   "execution_count": 69,
   "metadata": {},
   "outputs": [
    {
     "name": "stdout",
     "output_type": "stream",
     "text": [
      "디시전트리\n",
      "오차행렬\n",
      "[[2274   41]\n",
      " [  39   11]]\n",
      "정확도: 0.9662, 정밀도 : 0.2115, 재현율:0.2200,F1 스코어:0.2157\n",
      "ROC 스코어: 0.6011, PR score : 0.0630\n",
      "None\n"
     ]
    }
   ],
   "source": [
    "print(\"디시전트리\") \n",
    "print(get_clf_eval(same_y_test, dt_pred))"
   ]
  },
  {
   "cell_type": "code",
   "execution_count": 70,
   "metadata": {},
   "outputs": [],
   "source": [
    "# 랜덤포레스트 구현\n",
    "from sklearn.ensemble import RandomForestClassifier\n",
    "rf_clf = RandomForestClassifier(random_state=52)     \n",
    "rf_clf.fit(same_x_train, same_y_train)\n",
    "rf_pred = rf_clf.predict(same_x_test)\n",
    "rf_pred_proba = rf_clf.predict_proba(same_x_test)"
   ]
  },
  {
   "cell_type": "code",
   "execution_count": 71,
   "metadata": {},
   "outputs": [
    {
     "name": "stdout",
     "output_type": "stream",
     "text": [
      "랜덤포레스트\n",
      "오차행렬\n",
      "[[2306    9]\n",
      " [  42    8]]\n",
      "정확도: 0.9784, 정밀도 : 0.4706, 재현율:0.1600,F1 스코어:0.2388\n",
      "ROC 스코어: 0.5781, PR score : 0.0931\n"
     ]
    }
   ],
   "source": [
    "print(\"랜덤포레스트\") \n",
    "get_clf_eval(same_y_test, rf_pred)"
   ]
  },
  {
   "cell_type": "code",
   "execution_count": 72,
   "metadata": {},
   "outputs": [],
   "source": [
    "# 로지스틱 회귀 모델\n",
    "from sklearn.linear_model import LogisticRegression\n",
    "lr_clf = LogisticRegression()\n",
    "lr_clf.fit(same_x_train, same_y_train)\n",
    "lr_pred = lr_clf.predict(same_x_test)\n",
    "lr_pred_proba = lr_clf.predict_proba(same_x_test)"
   ]
  },
  {
   "cell_type": "code",
   "execution_count": 73,
   "metadata": {},
   "outputs": [
    {
     "name": "stdout",
     "output_type": "stream",
     "text": [
      "로지스틱\n",
      "오차행렬\n",
      "[[2310    5]\n",
      " [  48    2]]\n",
      "정확도: 0.9776, 정밀도 : 0.2857, 재현율:0.0400,F1 스코어:0.0702\n",
      "ROC 스코어: 0.5189, PR score : 0.0317\n"
     ]
    }
   ],
   "source": [
    "print(\"로지스틱\") \n",
    "get_clf_eval(same_y_test, lr_pred)"
   ]
  },
  {
   "cell_type": "code",
   "execution_count": 74,
   "metadata": {},
   "outputs": [
    {
     "name": "stderr",
     "output_type": "stream",
     "text": [
      "c:\\Users\\young\\anaconda3\\lib\\site-packages\\sklearn\\neighbors\\_classification.py:228: FutureWarning: Unlike other reduction functions (e.g. `skew`, `kurtosis`), the default behavior of `mode` typically preserves the axis it acts along. In SciPy 1.11.0, this behavior will change: the default value of `keepdims` will become False, the `axis` over which the statistic is taken will be eliminated, and the value None will no longer be accepted. Set `keepdims` to True or False to avoid this warning.\n",
      "  mode, _ = stats.mode(_y[neigh_ind, k], axis=1)\n"
     ]
    }
   ],
   "source": [
    "# KNN 모형 구현\n",
    "from sklearn.neighbors import KNeighborsClassifier\n",
    "\n",
    "knn_clf = KNeighborsClassifier(n_neighbors=5)\n",
    "knn_clf.fit(same_x_train, same_y_train)\n",
    "knn_pred = knn_clf.predict(same_x_test)\n",
    "knn_pred_proba = knn_clf.predict_proba(same_x_test)"
   ]
  },
  {
   "cell_type": "code",
   "execution_count": 75,
   "metadata": {},
   "outputs": [
    {
     "name": "stdout",
     "output_type": "stream",
     "text": [
      "knn\n",
      "오차행렬\n",
      "[[2311    4]\n",
      " [  44    6]]\n",
      "정확도: 0.9797, 정밀도 : 0.6000, 재현율:0.1200,F1 스코어:0.2000\n",
      "ROC 스코어: 0.5591, PR score : 0.0906\n"
     ]
    }
   ],
   "source": [
    "print(\"knn\") \n",
    "get_clf_eval(same_y_test, knn_pred)"
   ]
  },
  {
   "cell_type": "code",
   "execution_count": 76,
   "metadata": {},
   "outputs": [],
   "source": [
    "from xgboost import XGBClassifier\n",
    "from sklearn.model_selection import train_test_split\n",
    "import xgboost as xgb ## XGBoost 불러오기\n",
    "from xgboost import plot_importance \n",
    "same_x_train2 = same_x_train.copy()\n",
    "same_x_test2 = same_x_test.copy()\n",
    "same_y_train2 = same_y_train.copy()\n",
    "same_y_test2 = same_y_test.copy()\n",
    "same_x_train2.columns = [same_feature]\n",
    "same_x_test2.columns =[same_feature]\n",
    "\n",
    "xgb_wrapper = XGBClassifier()\n",
    "\n",
    "xgb_wrapper.fit(same_x_train2, same_y_train2, verbose = True)\n",
    "\n",
    "\n",
    "xgb_pred = xgb_wrapper.predict(same_x_test)\n",
    "xgb_pred_proba = xgb_wrapper.predict_proba(same_x_test)"
   ]
  },
  {
   "cell_type": "code",
   "execution_count": 77,
   "metadata": {},
   "outputs": [
    {
     "name": "stdout",
     "output_type": "stream",
     "text": [
      "xgb\n",
      "오차행렬\n",
      "[[2301   14]\n",
      " [  40   10]]\n",
      "정확도: 0.9772, 정밀도 : 0.4167, 재현율:0.2000,F1 스코어:0.2703\n",
      "ROC 스코어: 0.5970, PR score : 0.1002\n"
     ]
    }
   ],
   "source": [
    "print(\"xgb\") \n",
    "get_clf_eval(same_y_test, xgb_pred)"
   ]
  },
  {
   "cell_type": "code",
   "execution_count": 78,
   "metadata": {},
   "outputs": [],
   "source": [
    "class Perceptron(object):\n",
    "    \n",
    "    def __init__(self, eta = 0.1, n_iter = 50, random_state = 1): #초기화\n",
    "        self.eta = eta\n",
    "        self.n_iter = n_iter\n",
    "        self.random_state = random_state\n",
    "        \n",
    "    \n",
    "    def fit(self, X, y): #학습\n",
    "        rgen = np.random.RandomState(self.random_state)\n",
    "        self.w_ = rgen.normal(loc = 0, scale = 0,\n",
    "                             size = 1 + X.shape[1])\n",
    "        \n",
    "        self.errors_ = []\n",
    "        for _ in range(self.n_iter):\n",
    "            errors = 0\n",
    "            for i in range(len(X)):\n",
    "                xi = X.iloc[i].values\n",
    "                target = y[i]\n",
    "                update = self.eta * (target - self.predict(xi))\n",
    "                self.w_[1:] += update * xi\n",
    "                self.w_[0] += update\n",
    "                errors += int(update != 0.0)\n",
    "            self.errors_.append(errors)\n",
    "        return self\n",
    "    \n",
    "    def predict(self, X): #추론\n",
    "        return np.where(self.net_input(X) >= 0.0, 1, 0)\n",
    "    \n",
    "    def net_input(self, X):\n",
    "        return np.dot(X, self.w_[1:]) + self.w_[0]\n"
   ]
  },
  {
   "cell_type": "code",
   "execution_count": 79,
   "metadata": {},
   "outputs": [],
   "source": [
    "pc_clf = Perceptron(n_iter = 10)\n",
    "pc_clf.fit(same_x_train, same_y_train)\n",
    "pc_pred = pc_clf.predict(same_x_test)"
   ]
  },
  {
   "cell_type": "code",
   "execution_count": 80,
   "metadata": {},
   "outputs": [
    {
     "name": "stdout",
     "output_type": "stream",
     "text": [
      "퍼셉트론\n",
      "오차행렬\n",
      "[[2306    9]\n",
      " [  45    5]]\n",
      "정확도: 0.9772, 정밀도 : 0.3571, 재현율:0.1000,F1 스코어:0.1562\n",
      "ROC 스코어: 0.5481, PR score : 0.0547\n"
     ]
    }
   ],
   "source": [
    "print(\"퍼셉트론\") \n",
    "get_clf_eval(same_y_test, pc_pred)"
   ]
  }
 ],
 "metadata": {
  "kernelspec": {
   "display_name": "base",
   "language": "python",
   "name": "python3"
  },
  "language_info": {
   "codemirror_mode": {
    "name": "ipython",
    "version": 3
   },
   "file_extension": ".py",
   "mimetype": "text/x-python",
   "name": "python",
   "nbconvert_exporter": "python",
   "pygments_lexer": "ipython3",
   "version": "3.9.13"
  },
  "orig_nbformat": 4
 },
 "nbformat": 4,
 "nbformat_minor": 2
}
